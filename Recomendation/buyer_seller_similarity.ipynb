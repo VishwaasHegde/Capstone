{
 "cells": [
  {
   "cell_type": "markdown",
   "metadata": {},
   "source": [
    "# Problem Statement"
   ]
  },
  {
   "cell_type": "markdown",
   "metadata": {},
   "source": [
    "## "
   ]
  },
  {
   "cell_type": "markdown",
   "metadata": {},
   "source": [
    "### Import Libraries"
   ]
  },
  {
   "cell_type": "code",
   "execution_count": 1,
   "metadata": {},
   "outputs": [],
   "source": [
    "import pandas as pd\n",
    "import numpy as np\n",
    "import matplotlib.pyplot as plt\n",
    "import seaborn as sns\n",
    "%matplotlib inline"
   ]
  },
  {
   "cell_type": "markdown",
   "metadata": {},
   "source": [
    "### Loading data into data frames"
   ]
  },
  {
   "cell_type": "code",
   "execution_count": 13,
   "metadata": {},
   "outputs": [],
   "source": [
    "buyer = pd.read_csv('buyer.csv')\n",
    "seller = pd.read_csv('seller.csv')\n",
    "matchs = pd.read_csv('match.csv')"
   ]
  },
  {
   "cell_type": "code",
   "execution_count": 14,
   "metadata": {},
   "outputs": [],
   "source": [
    "buyer_keywords = pd.read_csv('buyer_keywords.csv')\n",
    "seller_keywords = pd.read_csv('seller_keywords.csv')\n",
    "keywords = pd.read_csv('keywords.csv')"
   ]
  },
  {
   "cell_type": "code",
   "execution_count": 15,
   "metadata": {},
   "outputs": [],
   "source": [
    "sub_sector = pd.read_csv('sub_sector.csv')\n",
    "sectors = pd.read_csv('sectors.csv')\n",
    "deal_sector_info = pd.read_csv('deal_sector_info.csv')"
   ]
  },
  {
   "cell_type": "code",
   "execution_count": 19,
   "metadata": {},
   "outputs": [
    {
     "data": {
      "text/html": [
       "<div>\n",
       "<style scoped>\n",
       "    .dataframe tbody tr th:only-of-type {\n",
       "        vertical-align: middle;\n",
       "    }\n",
       "\n",
       "    .dataframe tbody tr th {\n",
       "        vertical-align: top;\n",
       "    }\n",
       "\n",
       "    .dataframe thead th {\n",
       "        text-align: right;\n",
       "    }\n",
       "</style>\n",
       "<table border=\"1\" class=\"dataframe\">\n",
       "  <thead>\n",
       "    <tr style=\"text-align: right;\">\n",
       "      <th></th>\n",
       "      <th>id</th>\n",
       "      <th>udes</th>\n",
       "      <th>ades</th>\n",
       "      <th>ds</th>\n",
       "    </tr>\n",
       "  </thead>\n",
       "  <tbody>\n",
       "    <tr>\n",
       "      <th>0</th>\n",
       "      <td>13867</td>\n",
       "      <td>Latin America based with $9 million in revenue...</td>\n",
       "      <td>NaN</td>\n",
       "      <td>2</td>\n",
       "    </tr>\n",
       "    <tr>\n",
       "      <th>1</th>\n",
       "      <td>13863</td>\n",
       "      <td>US-based| with US$ 6M in revenue| this is a ga...</td>\n",
       "      <td>US-based| with US$ 6M in revenue| this is a ga...</td>\n",
       "      <td>2</td>\n",
       "    </tr>\n",
       "    <tr>\n",
       "      <th>2</th>\n",
       "      <td>13860</td>\n",
       "      <td>US-based| with revenue of US$ 6M| this is a wh...</td>\n",
       "      <td>US-based| with revenue of US$ 6M| this is a wh...</td>\n",
       "      <td>2</td>\n",
       "    </tr>\n",
       "    <tr>\n",
       "      <th>3</th>\n",
       "      <td>13853</td>\n",
       "      <td>US-based with $30 million in revenue| this is ...</td>\n",
       "      <td>US-based with $30 million in revenue| this is ...</td>\n",
       "      <td>2</td>\n",
       "    </tr>\n",
       "    <tr>\n",
       "      <th>4</th>\n",
       "      <td>13852</td>\n",
       "      <td>US-based with $14 million in revenue| this com...</td>\n",
       "      <td>US-based with $14 million in revenue| this com...</td>\n",
       "      <td>2</td>\n",
       "    </tr>\n",
       "  </tbody>\n",
       "</table>\n",
       "</div>"
      ],
      "text/plain": [
       "      id                                               udes  \\\n",
       "0  13867  Latin America based with $9 million in revenue...   \n",
       "1  13863  US-based| with US$ 6M in revenue| this is a ga...   \n",
       "2  13860  US-based| with revenue of US$ 6M| this is a wh...   \n",
       "3  13853  US-based with $30 million in revenue| this is ...   \n",
       "4  13852  US-based with $14 million in revenue| this com...   \n",
       "\n",
       "                                                ades  ds  \n",
       "0                                                NaN   2  \n",
       "1  US-based| with US$ 6M in revenue| this is a ga...   2  \n",
       "2  US-based| with revenue of US$ 6M| this is a wh...   2  \n",
       "3  US-based with $30 million in revenue| this is ...   2  \n",
       "4  US-based with $14 million in revenue| this com...   2  "
      ]
     },
     "execution_count": 19,
     "metadata": {},
     "output_type": "execute_result"
    }
   ],
   "source": [
    "seller.head()"
   ]
  },
  {
   "cell_type": "markdown",
   "metadata": {},
   "source": [
    "### Missing value Treatment\n",
    "#### Description for companies is unique so filling them with some dummy text whcih will not match to anyother description\n",
    "##### For Buyer it is BBBBB\n",
    "##### For Seller it is SSSSS"
   ]
  },
  {
   "cell_type": "markdown",
   "metadata": {},
   "source": []
  }
 ],
 "metadata": {
  "kernelspec": {
   "display_name": "Python 3",
   "language": "python",
   "name": "python3"
  },
  "language_info": {
   "codemirror_mode": {
    "name": "ipython",
    "version": 3
   },
   "file_extension": ".py",
   "mimetype": "text/x-python",
   "name": "python",
   "nbconvert_exporter": "python",
   "pygments_lexer": "ipython3",
   "version": "3.6.4"
  }
 },
 "nbformat": 4,
 "nbformat_minor": 2
}
